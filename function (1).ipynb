{
 "cells": [
  {
   "cell_type": "markdown",
   "metadata": {},
   "source": [
    "### Basics\n"
   ]
  },
  {
   "cell_type": "code",
   "execution_count": 2,
   "metadata": {},
   "outputs": [
    {
     "name": "stdout",
     "output_type": "stream",
     "text": [
      "Hello, The shit\n"
     ]
    }
   ],
   "source": [
    "def greeetings(aname):\n",
    "    print(f\"Hello, {aname}\")\n",
    "greeetings(\"The shit\")"
   ]
  },
  {
   "cell_type": "markdown",
   "metadata": {},
   "source": [
    "### parameter is aname, info that function needs to do its job"
   ]
  },
  {
   "cell_type": "code",
   "execution_count": null,
   "metadata": {},
   "outputs": [],
   "source": []
  },
  {
   "cell_type": "markdown",
   "metadata": {},
   "source": [
    "### The shit is argument, info passed from a function call to a function."
   ]
  },
  {
   "cell_type": "code",
   "execution_count": 6,
   "metadata": {},
   "outputs": [
    {
     "name": "stdout",
     "output_type": "stream",
     "text": [
      "My fav book is: BI\n"
     ]
    }
   ],
   "source": [
    "def fav_book(kind_of_book=\"AI\"):\n",
    "    print(f\"My fav book is: {kind_of_book}\")\n",
    "\n",
    "fav_book(\"BI\")"
   ]
  },
  {
   "cell_type": "code",
   "execution_count": 8,
   "metadata": {},
   "outputs": [
    {
     "name": "stdout",
     "output_type": "stream",
     "text": [
      "The size of this shirt is: Medium, and I love AI will be printed on the shirt\n"
     ]
    }
   ],
   "source": [
    "def make_shirt(size, text):\n",
    "    print(f\"The size of this shirt is: {size}, and {text} will be printed on the shirt\")\n",
    "\n",
    "make_shirt(\"Medium\", \"I love AI\")"
   ]
  },
  {
   "cell_type": "code",
   "execution_count": 12,
   "metadata": {},
   "outputs": [
    {
     "name": "stdout",
     "output_type": "stream",
     "text": [
      "The size of this shirt is: Medium_Large, and I love python will be printed on the shirt\n"
     ]
    }
   ],
   "source": [
    "def make_shirt(size = \"large\", text = \"I love python\"):\n",
    "    print(f\"The size of this shirt is: {size}, and {text} will be printed on the shirt\")\n",
    "\n",
    "make_shirt(\"Medium_Large\")"
   ]
  },
  {
   "cell_type": "markdown",
   "metadata": {},
   "source": [
    "### Another practice"
   ]
  },
  {
   "cell_type": "code",
   "execution_count": 33,
   "metadata": {},
   "outputs": [
    {
     "name": "stdout",
     "output_type": "stream",
     "text": [
      "dong,beng,long\n"
     ]
    }
   ],
   "source": [
    "def get_name(fname, lname, mname = ''):\n",
    "    if mname:\n",
    "        fullname = f\"{fname},{mname},{lname}\"\n",
    "    else:\n",
    "        fullname = f\"{fname}, {lname}\"\n",
    "    return fullname\n",
    "\n",
    "musician = get_name(fname = \"dong\", lname = \"long\",mname = \"beng\")\n",
    "print(musician)"
   ]
  },
  {
   "cell_type": "markdown",
   "metadata": {},
   "source": [
    "### Modifiying a list"
   ]
  },
  {
   "cell_type": "code",
   "execution_count": 24,
   "metadata": {},
   "outputs": [
    {
     "name": "stdout",
     "output_type": "stream",
     "text": [
      "Printing model: dodecahedron\n",
      "Printing model: robot\n",
      "Printing model: Phone\n",
      "\n",
      "The following objects had been printed\n",
      "dodecahedron\n",
      "robot\n",
      "Phone\n"
     ]
    }
   ],
   "source": [
    "unprint_designs = ['Phone', 'robot', 'dodecahedron']\n",
    "completed_model = []\n",
    "\n",
    "while unprint_designs:\n",
    "    current_design = unprint_designs.pop()\n",
    "    print(f\"Printing model: {current_design}\")\n",
    "    completed_model.append(current_design)\n",
    "    \n",
    "print(\"\\nThe following objects had been printed\")\n",
    "for object in completed_model:\n",
    "    print(object)\n",
    "\n",
    "    \n",
    "\n",
    "# function_name(list_name[:]) when you don't wanna overwrite original file(P146)"
   ]
  },
  {
   "cell_type": "markdown",
   "metadata": {},
   "source": [
    "### Arbitrary # of arguments"
   ]
  },
  {
   "cell_type": "code",
   "execution_count": 28,
   "metadata": {
    "jupyter": {
     "source_hidden": true
    }
   },
   "outputs": [
    {
     "name": "stdout",
     "output_type": "stream",
     "text": [
      " - Adding a\n",
      " - Adding b\n",
      " - Adding c\n"
     ]
    }
   ],
   "source": [
    "def pizza(*toppings):\n",
    "    for topping in toppings:\n",
    "        print(f\" - Adding {topping}\")\n",
    "\n",
    "pizza('a','b','c')"
   ]
  },
  {
   "cell_type": "code",
   "execution_count": 1,
   "metadata": {},
   "outputs": [
    {
     "name": "stdout",
     "output_type": "stream",
     "text": [
      "Adding - A\n",
      "Adding - b\n",
      "Adding - c\n"
     ]
    }
   ],
   "source": [
    "def pizza(*toppings):\n",
    "    if toppings:\n",
    "        for topping in toppings:\n",
    "            print(f\"Adding - {topping}\")\n",
    "            \n",
    "pizza(\"A\",\"b\",\"c\")"
   ]
  },
  {
   "cell_type": "code",
   "execution_count": null,
   "metadata": {},
   "outputs": [],
   "source": []
  },
  {
   "cell_type": "markdown",
   "metadata": {},
   "source": [
    "###  When you're not sure what info you will receive"
   ]
  },
  {
   "cell_type": "code",
   "execution_count": 29,
   "metadata": {},
   "outputs": [
    {
     "name": "stdout",
     "output_type": "stream",
     "text": [
      "{'location': 'IN', 'field': 'I miss', 'fname': 'albert', 'lname': 'dfsf'}\n"
     ]
    }
   ],
   "source": [
    "def build_profile(first, last, **user_info):\n",
    "    \n",
    "    user_info['fname'] = first\n",
    "    user_info['lname'] = last\n",
    "    return user_info\n",
    "\n",
    "user_profile = build_profile('albert','dfsf',location = 'IN', field = 'I miss')\n",
    "\n",
    "print(user_profile)"
   ]
  },
  {
   "cell_type": "code",
   "execution_count": null,
   "metadata": {},
   "outputs": [],
   "source": []
  }
 ],
 "metadata": {
  "kernelspec": {
   "display_name": "Python 3",
   "language": "python",
   "name": "python3"
  },
  "language_info": {
   "codemirror_mode": {
    "name": "ipython",
    "version": 3
   },
   "file_extension": ".py",
   "mimetype": "text/x-python",
   "name": "python",
   "nbconvert_exporter": "python",
   "pygments_lexer": "ipython3",
   "version": "3.7.4"
  }
 },
 "nbformat": 4,
 "nbformat_minor": 4
}
