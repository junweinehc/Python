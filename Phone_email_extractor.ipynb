{
 "cells": [
  {
   "cell_type": "markdown",
   "id": "81c89e5e-bc9c-4fad-96c0-69b6c13c44ed",
   "metadata": {},
   "source": [
    "## Finding patterns of text without regular expression"
   ]
  },
  {
   "cell_type": "code",
   "execution_count": 11,
   "id": "71903e1c-8f9b-411c-ae95-3537c18964f4",
   "metadata": {},
   "outputs": [],
   "source": [
    "def isPhoneNumber(text):\n",
    "    if len(text) != 12:  # Is it 12 digits?\n",
    "        return False\n",
    "    for i in range(0,3):\n",
    "        if not text[i].isdecimal():\n",
    "            return False\n",
    "    if text[3] != '-':\n",
    "        return False\n",
    "    for i in range(4,7):\n",
    "        if not text[i].isdecimal():\n",
    "            return False\n",
    "    if text[7] != '-':\n",
    "        return False\n",
    "    for i in range(4,7):\n",
    "        if not text[i].isdecimal():\n",
    "            return False\n",
    "    if text[7] != '-':\n",
    "        return False\n",
    "    for i in range(8,12):\n",
    "        if not text[i].isdecimal():\n",
    "            return False\n",
    "    return True"
   ]
  },
  {
   "cell_type": "code",
   "execution_count": 15,
   "id": "87e0703b-c678-4340-989d-d7bfefcdc895",
   "metadata": {},
   "outputs": [
    {
     "name": "stdout",
     "output_type": "stream",
     "text": [
      "Is 415-666-4242 a phone number?\n",
      "True\n"
     ]
    }
   ],
   "source": [
    "print('Is 415-666-4242 a phone number?')\n",
    "print(isPhoneNumber('415-666-4243'))"
   ]
  },
  {
   "cell_type": "code",
   "execution_count": 20,
   "id": "f71a066d-2076-40cd-b160-665ade62e9ea",
   "metadata": {},
   "outputs": [
    {
     "name": "stdout",
     "output_type": "stream",
     "text": [
      "phone number is 702-222-3312\n",
      "phone number is 702-333-2323\n",
      "LIT\n"
     ]
    }
   ],
   "source": [
    "message = 'Call me at 702-222-3312 tomorrow, 702-333-2323 is my office bruh.'\n",
    "for i in range(len(message)):\n",
    "    chunk = message[i:i+12]\n",
    "    if isPhoneNumber(chunk):\n",
    "        print(f\"phone number is {chunk}\")\n",
    "print(\"LIT\")"
   ]
  },
  {
   "cell_type": "markdown",
   "id": "fee3bdbb-89c8-459e-91d0-27fa8344cb40",
   "metadata": {},
   "source": [
    "## Use regex"
   ]
  },
  {
   "cell_type": "code",
   "execution_count": 24,
   "id": "c185b687-97c0-461d-a080-671e9a4229f6",
   "metadata": {},
   "outputs": [],
   "source": [
    "import re"
   ]
  },
  {
   "cell_type": "code",
   "execution_count": 32,
   "id": "389481be-7a05-4cf9-ad9a-96598a194ee9",
   "metadata": {},
   "outputs": [
    {
     "name": "stdout",
     "output_type": "stream",
     "text": [
      "Phone number fund is: 702-777-7777\n"
     ]
    }
   ],
   "source": [
    "phoneNumMatch = re.compile(r'\\d{3}-\\d{3}-\\d{4}')\n",
    "mo = phoneNumMatch.search('My number is: 702-777-7777')\n",
    "print('Phone number fund is: ' + mo.group())"
   ]
  },
  {
   "cell_type": "markdown",
   "id": "a81bcb8c-5eb5-4a06-ab0f-5ff371f16a98",
   "metadata": {},
   "source": [
    "#### Grouping and parentheses"
   ]
  },
  {
   "cell_type": "code",
   "execution_count": 42,
   "id": "00c51fca-2ae2-4078-a8fc-59de852fb369",
   "metadata": {},
   "outputs": [
    {
     "data": {
      "text/plain": [
       "'777-7777'"
      ]
     },
     "execution_count": 42,
     "metadata": {},
     "output_type": "execute_result"
    }
   ],
   "source": [
    "phoneNumRex = re.compile(r'(\\d{3})-(\\d{3}-\\d{4})')\n",
    "mo = phoneNumRex.search('My number is: 702-777-7777')\n",
    "areaCode, mainNum = mo.groups()\n",
    "mainNum"
   ]
  },
  {
   "cell_type": "markdown",
   "id": "93ea5ea1-be70-47c4-8139-b8b7d0fbc535",
   "metadata": {},
   "source": [
    "#### Group Parentheses"
   ]
  },
  {
   "cell_type": "code",
   "execution_count": 3,
   "id": "48f95377-5eb3-4387-9e54-f13cab6325db",
   "metadata": {},
   "outputs": [
    {
     "name": "stdout",
     "output_type": "stream",
     "text": [
      "the number has been found is: (702) 777-7777\n"
     ]
    }
   ],
   "source": [
    "import re\n",
    "phoneNumParen = re.compile(r'(\\(\\d{3}\\)) (\\d{3}-\\d{4})')\n",
    "mo = phoneNumParen.search('My number is: (702) 777-7777')\n",
    "print(f'the number has been found is: {mo.group()}')"
   ]
  },
  {
   "cell_type": "markdown",
   "id": "ccba2d5b-0c3c-4616-be28-51af5733f1ff",
   "metadata": {},
   "source": [
    "#### pipe |"
   ]
  },
  {
   "cell_type": "code",
   "execution_count": 4,
   "id": "e527d419-7d11-46a0-913e-1e0d64ade27e",
   "metadata": {},
   "outputs": [
    {
     "data": {
      "text/plain": [
       "'David '"
      ]
     },
     "execution_count": 4,
     "metadata": {},
     "output_type": "execute_result"
    }
   ],
   "source": [
    "nameRexgex = re.compile(r'David | Tina Fey')\n",
    "mo = nameRexgex.search('Tina Fey and David lol')\n",
    "mo.group()"
   ]
  },
  {
   "cell_type": "code",
   "execution_count": 8,
   "id": "14669735-26fd-494a-a02d-6690c819f407",
   "metadata": {},
   "outputs": [
    {
     "data": {
      "text/plain": [
       "'Bateww'"
      ]
     },
     "execution_count": 8,
     "metadata": {},
     "output_type": "execute_result"
    }
   ],
   "source": [
    "nameRegex1 = re.compile(r'Bat(man|mobile|lol|haha|eww)')\n",
    "mo = nameRegex1.search('Ich libBateww')\n",
    "mo.group()"
   ]
  },
  {
   "cell_type": "code",
   "execution_count": null,
   "id": "9081df0b-9ea2-4283-8b1e-08d34b2d992e",
   "metadata": {},
   "outputs": [],
   "source": []
  },
  {
   "cell_type": "code",
   "execution_count": null,
   "id": "1b46fa17-6967-4977-ac8c-a1d02904266f",
   "metadata": {},
   "outputs": [],
   "source": []
  },
  {
   "cell_type": "markdown",
   "id": "b2686547-24e5-4ae4-b802-c2a9f395b998",
   "metadata": {},
   "source": [
    "#### Optional question mark ()? regardless it's there in parenthesis or not"
   ]
  },
  {
   "cell_type": "code",
   "execution_count": 57,
   "id": "4105722f-ab8b-4754-a888-c642229735d9",
   "metadata": {},
   "outputs": [
    {
     "name": "stdout",
     "output_type": "stream",
     "text": [
      "the text has been found is: batwoman\n"
     ]
    }
   ],
   "source": [
    "batRegex = re.compile(r'bat(wo)?man')\n",
    "mo = batRegex.search('batwoman')\n",
    "print(f'the text has been found is: {mo.group()}')"
   ]
  },
  {
   "cell_type": "markdown",
   "id": "3ebefb78-07c6-4057-9c7d-29ac746f25eb",
   "metadata": {},
   "source": [
    "##### Another example"
   ]
  },
  {
   "cell_type": "code",
   "execution_count": 59,
   "id": "5ca8e70a-3b79-4e15-ab39-5f41803a3a4a",
   "metadata": {},
   "outputs": [
    {
     "name": "stdout",
     "output_type": "stream",
     "text": [
      "the text has been found is: 417-2422\n"
     ]
    }
   ],
   "source": [
    "phoneRegex = re.compile(r'(\\d{3}-)?\\d{3}-\\d{4}')\n",
    "mo = phoneRegex.search('My number is 702-417-2422')\n",
    "print(f'the text has been found is: {mo.group()}')"
   ]
  },
  {
   "cell_type": "markdown",
   "id": "85753709-b328-4e03-92df-0a1be690b387",
   "metadata": {},
   "source": [
    "#### Regardless it's in ()"
   ]
  },
  {
   "cell_type": "code",
   "execution_count": 12,
   "id": "701a2ca6-6b1c-4087-a81f-0f94cccfe576",
   "metadata": {},
   "outputs": [
    {
     "name": "stdout",
     "output_type": "stream",
     "text": [
      "the text has been found is: 702-417-2422\n"
     ]
    }
   ],
   "source": [
    "phoneRegex = re.compile(r'(\\d{3}-)*\\d{3}-\\d{4}')\n",
    "mo = phoneRegex.search('My number is 702-417-2422')\n",
    "print(f'the text has been found is: {mo.group()}')"
   ]
  },
  {
   "cell_type": "markdown",
   "id": "d4081c99-72ee-4f3d-9e3e-fd48b064bee1",
   "metadata": {},
   "source": [
    " ## \"*\" can replace where \"?\" was. It matches zero or more"
   ]
  },
  {
   "cell_type": "code",
   "execution_count": 67,
   "id": "4e98b940-ca2b-4fcc-b8d4-722f9b9c4414",
   "metadata": {},
   "outputs": [
    {
     "name": "stdout",
     "output_type": "stream",
     "text": [
      "the text has been found is: batwoman\n"
     ]
    }
   ],
   "source": [
    "batRegex = re.compile(r'bat(wo)*man')\n",
    "mo = batRegex.search('batwoman')\n",
    "print(f'the text has been found is: {mo.group()}')"
   ]
  },
  {
   "cell_type": "markdown",
   "id": "d0e4cc95-e85d-4d3a-8506-194e942cfacc",
   "metadata": {},
   "source": [
    "#### plus sign + means match ONE or more."
   ]
  },
  {
   "cell_type": "code",
   "execution_count": 70,
   "id": "7564c6b1-b46c-4aba-abc8-4e25633d6cf5",
   "metadata": {},
   "outputs": [
    {
     "name": "stdout",
     "output_type": "stream",
     "text": [
      "the text has been found is: batwowowoman\n"
     ]
    }
   ],
   "source": [
    "batRegex = re.compile(r'bat(wo)+man')\n",
    "mo = batRegex.search('batwowowoman')\n",
    "print(f'the text has been found is: {mo.group()}')"
   ]
  },
  {
   "cell_type": "markdown",
   "id": "02b8d567-785b-4528-b660-eabc6243320c",
   "metadata": {},
   "source": [
    "#### Matching spefici repetitions | Greedy and not greedy"
   ]
  },
  {
   "cell_type": "code",
   "execution_count": 72,
   "id": "96a427bc-65c8-4927-ac49-a48973a859f6",
   "metadata": {},
   "outputs": [
    {
     "data": {
      "text/plain": [
       "'HaHaHaHaHa'"
      ]
     },
     "execution_count": 72,
     "metadata": {},
     "output_type": "execute_result"
    }
   ],
   "source": [
    "greedyHaRegex = re.compile(r'(Ha){3,5}')\n",
    "mo = greedyHaRegex.search(\"HaHaHaHaHa\")\n",
    "mo.group()"
   ]
  },
  {
   "cell_type": "code",
   "execution_count": 75,
   "id": "2234d51e-d263-4e7a-8a9b-4968b7824c1d",
   "metadata": {},
   "outputs": [
    {
     "data": {
      "text/plain": [
       "'HaHaHa'"
      ]
     },
     "execution_count": 75,
     "metadata": {},
     "output_type": "execute_result"
    }
   ],
   "source": [
    "nongreedyHaRegex = re.compile(r'(Ha){3,5}?')  # ? declearing a non-greedy match or flagging an optional group, they are unrelated\n",
    "mo = nongreedyHaRegex.search(\"HaHaHaHaHa\")\n",
    "mo.group()"
   ]
  },
  {
   "cell_type": "code",
   "execution_count": null,
   "id": "3c636df0-fa0a-4cac-bfe6-0f691cede313",
   "metadata": {},
   "outputs": [],
   "source": []
  },
  {
   "cell_type": "markdown",
   "id": "d2857625-6f55-4470-9cbb-2d96c265bdb2",
   "metadata": {},
   "source": [
    "## Findall() finds all result with matching format"
   ]
  },
  {
   "cell_type": "markdown",
   "id": "3ed0ae7a-6a0c-4e48-91a6-50f17505af9e",
   "metadata": {},
   "source": [
    "phoneRegex = re.compile(r'\\d{3}-\\d{3}-\\d{4}')\n",
    "mo = phoneRegex.findall(\"My number is 702-417-2422, his is 626-333-8888\")\n",
    "mo"
   ]
  },
  {
   "cell_type": "code",
   "execution_count": null,
   "id": "633d4350-fa02-4f6f-b823-ccccdc0335b1",
   "metadata": {},
   "outputs": [],
   "source": []
  },
  {
   "cell_type": "markdown",
   "id": "d47ce16a-1634-4040-8197-e1fb888a3517",
   "metadata": {},
   "source": [
    "#### Character Class"
   ]
  },
  {
   "cell_type": "code",
   "execution_count": 80,
   "id": "d88e5d4f-4397-4b65-ac1e-f128ac804f5d",
   "metadata": {},
   "outputs": [
    {
     "data": {
      "text/plain": [
       "['o', 'o', 'a', 'i', 'i', 'e', 'u', 'u', 'e']"
      ]
     },
     "execution_count": 80,
     "metadata": {},
     "output_type": "execute_result"
    }
   ],
   "source": [
    "vowelRegex = re.compile(r'[aeiouAEIOU]')\n",
    "vowelRegex.findall('Robo hjkhgjai ieuushe')"
   ]
  },
  {
   "cell_type": "markdown",
   "id": "d9320868-0f11-423a-ae64-36774bde4667",
   "metadata": {},
   "source": [
    "#### Negative character class matches char that are not in the char class"
   ]
  },
  {
   "cell_type": "code",
   "execution_count": 2,
   "id": "2155cb06-ae6b-428d-9272-94154defd93c",
   "metadata": {},
   "outputs": [
    {
     "data": {
      "text/plain": [
       "['R',\n",
       " 'b',\n",
       " ' ',\n",
       " 'G',\n",
       " 'l',\n",
       " 'f',\n",
       " ' ',\n",
       " 's',\n",
       " ' ',\n",
       " 's',\n",
       " 'm',\n",
       " ' ',\n",
       " 'g',\n",
       " 'd',\n",
       " ' ',\n",
       " 's',\n",
       " 'h',\n",
       " 't']"
      ]
     },
     "execution_count": 2,
     "metadata": {},
     "output_type": "execute_result"
    }
   ],
   "source": [
    "import re\n",
    "vowelRegex1 = re.compile(r'[^aeiouAEIOU]')\n",
    "vowelRegex1.findall('Robo Golf is some good shiet')"
   ]
  },
  {
   "cell_type": "markdown",
   "id": "bfd5901f-a988-4560-8d4b-005c484ec85c",
   "metadata": {},
   "source": [
    "### Caret sign and Dollar sign"
   ]
  },
  {
   "cell_type": "markdown",
   "id": "8c642b42-fbfa-4fe6-9d65-43e97b16ecbf",
   "metadata": {},
   "source": [
    "##### Caret in inside of [^aeiou] indicate \"anything except aeiou \""
   ]
  },
  {
   "cell_type": "markdown",
   "id": "ba2a110c-7467-40c0-b72c-b5f37f17bc16",
   "metadata": {},
   "source": [
    "##### But if you use caret sign OUTSIDE, meaning it must start with such chars"
   ]
  },
  {
   "cell_type": "code",
   "execution_count": 3,
   "id": "f9723ffb-5c00-47f5-8dfe-c78accc2b6c7",
   "metadata": {},
   "outputs": [
    {
     "data": {
      "text/plain": [
       "<re.Match object; span=(0, 5), match='hello'>"
      ]
     },
     "execution_count": 3,
     "metadata": {},
     "output_type": "execute_result"
    }
   ],
   "source": [
    "beginWithHello = re.compile(r'^hello')\n",
    "beginWithHello.search(\"hello there\")"
   ]
  },
  {
   "cell_type": "markdown",
   "id": "6f5a9d97-8478-44e6-b229-058ce8dcd250",
   "metadata": {},
   "source": [
    "##### $ at the end indicate regex must end with it"
   ]
  },
  {
   "cell_type": "markdown",
   "id": "0071c620-eb6c-4139-9e4a-bc5cb6d6b9e6",
   "metadata": {},
   "source": [
    "##### ^ & $ indicate entire strings must match regex"
   ]
  },
  {
   "cell_type": "code",
   "execution_count": 10,
   "id": "73a8aab6-9af9-41ab-b0e3-79ee4fbd5f3d",
   "metadata": {},
   "outputs": [
    {
     "data": {
      "text/plain": [
       "False"
      ]
     },
     "execution_count": 10,
     "metadata": {},
     "output_type": "execute_result"
    }
   ],
   "source": [
    "endWithNumber = re.compile(r'^\\d$')\n",
    "endWithNumber.search(\"4\") == None"
   ]
  },
  {
   "cell_type": "markdown",
   "id": "81605f44-c2bf-4868-abc8-a75288a5e278",
   "metadata": {},
   "source": [
    "##### r'^\\d+$' indicates string matches strings that both begin and end with one or more numeric characters"
   ]
  },
  {
   "cell_type": "code",
   "execution_count": 12,
   "id": "f905773e-13f3-46d5-ad0c-3abead10f2df",
   "metadata": {},
   "outputs": [
    {
     "data": {
      "text/plain": [
       "True"
      ]
     },
     "execution_count": 12,
     "metadata": {},
     "output_type": "execute_result"
    }
   ],
   "source": [
    "endWithNumber = re.compile(r'^\\d+$')  # can be one or more numbers\n",
    "endWithNumber.search(\"fdsf1\") == None"
   ]
  },
  {
   "cell_type": "markdown",
   "id": "a7398437-5394-4dbd-878e-6d69d67c69c1",
   "metadata": {},
   "source": [
    "### Wildcar character"
   ]
  },
  {
   "cell_type": "markdown",
   "id": "dbb00716-7884-4596-aaee-7ec9f22a5724",
   "metadata": {},
   "source": [
    "##### . or dot, is the wildcard expression, it doesn't match for a new line tho"
   ]
  },
  {
   "cell_type": "code",
   "execution_count": 14,
   "id": "93e13b13-e87b-4897-8cf7-0bae79396653",
   "metadata": {},
   "outputs": [
    {
     "data": {
      "text/plain": [
       "['rat', 'bat', ' at', 'mat', 'lat']"
      ]
     },
     "execution_count": 14,
     "metadata": {},
     "output_type": "execute_result"
    }
   ],
   "source": [
    "atRegex = re.compile(r'.at')\n",
    "atRegex.findall('rat bat sss ats boom mat flat')"
   ]
  },
  {
   "cell_type": "markdown",
   "id": "23ac433a-cdbe-457b-bc2c-a24cd755b423",
   "metadata": {},
   "source": [
    "##### it matches one character.  To match dot, add backslash"
   ]
  },
  {
   "cell_type": "markdown",
   "id": "793566a4-27f8-4213-8ef3-9ca2b50ae5ce",
   "metadata": {},
   "source": [
    "##### .* means anything. * itself means zero or more preceding character"
   ]
  },
  {
   "cell_type": "code",
   "execution_count": 32,
   "id": "5a8e5ec8-867a-40fe-a0fb-41959f58b2e7",
   "metadata": {},
   "outputs": [
    {
     "data": {
      "text/plain": [
       "'Sweigart'"
      ]
     },
     "execution_count": 32,
     "metadata": {},
     "output_type": "execute_result"
    }
   ],
   "source": [
    "import re\n",
    "nameRegex = re.compile(r'First Name: (.*) Last Name: (.*)')  # remember (.*) and before must EXACTLY match the strings.\n",
    "mo = nameRegex.search('First Name: Al Last Name: Sweigart')\n",
    "mo.group(2)"
   ]
  },
  {
   "cell_type": "code",
   "execution_count": null,
   "id": "1d53174d-1e10-40a6-aac4-e8f3e287a0e3",
   "metadata": {
    "tags": []
   },
   "outputs": [],
   "source": []
  },
  {
   "cell_type": "code",
   "execution_count": 40,
   "id": "33479d97-efac-4b77-a319-955aff327a6f",
   "metadata": {},
   "outputs": [
    {
     "data": {
      "text/plain": [
       "'<To serve man>'"
      ]
     },
     "execution_count": 40,
     "metadata": {},
     "output_type": "execute_result"
    }
   ],
   "source": [
    "nongreedyRegex = re.compile(r'<.*?>')   # without ?, then it will return the entire thing\n",
    "mo = nongreedyRegex.search('<To serve man> for dinner>')\n",
    "mo.group()"
   ]
  },
  {
   "cell_type": "markdown",
   "id": "128ce7c5-36b3-4dec-a071-2a9db22047df",
   "metadata": {},
   "source": [
    "### Matching newline"
   ]
  },
  {
   "cell_type": "code",
   "execution_count": 48,
   "id": "e13f1bfd-ae20-4ed0-8b26-f9cc3e0c9b3a",
   "metadata": {},
   "outputs": [],
   "source": [
    "newlineRegex = re.compile('.*', re.DOTALL)"
   ]
  },
  {
   "cell_type": "code",
   "execution_count": 49,
   "id": "17bbe9ec-d0dd-431b-b8b6-d68e282f6ff6",
   "metadata": {},
   "outputs": [
    {
     "data": {
      "text/plain": [
       "'Serfdfsdf, fdfasfadfadfd\\nfdfasffdaf\\nwiueonlsm'"
      ]
     },
     "execution_count": 49,
     "metadata": {},
     "output_type": "execute_result"
    }
   ],
   "source": [
    "newlineRegex.search('Serfdfsdf, fdfasfadfadfd\\nfdfasffdaf\\nwiueonlsm').group()"
   ]
  },
  {
   "cell_type": "markdown",
   "id": "17d6e42c-7675-41cf-aa2a-6520934599eb",
   "metadata": {},
   "source": [
    "# Project"
   ]
  },
  {
   "cell_type": "markdown",
   "id": "d6345dd9-1d30-4c9b-9cc4-a094bf7c2807",
   "metadata": {},
   "source": [
    "##### phone number"
   ]
  },
  {
   "cell_type": "code",
   "execution_count": 104,
   "id": "fdb917a6-82ae-4041-852d-20acbe5ff872",
   "metadata": {},
   "outputs": [],
   "source": [
    "import re\n",
    "phoneRegex = re.compile(r'''(\n",
    "                        (\\d{3}|\\(\\d{3}\\))?\n",
    "                        (\\s|-|\\.)?\n",
    "                        (\\d{3})\n",
    "                        (\\s|-|\\.)\n",
    "                        (\\d{4})\n",
    "                        (\\s*(ext|x|ext.)\\s*(\\d{2,5}))?\n",
    "                        )''', re.VERBOSE)\n",
    "                        \n",
    "                        "
   ]
  },
  {
   "cell_type": "code",
   "execution_count": 105,
   "id": "6fd1dc1a-1a9d-465d-8299-bf92de9330b8",
   "metadata": {},
   "outputs": [],
   "source": [
    "phoneRegex.search('My number is: (702) 777-7777').group(8)"
   ]
  },
  {
   "cell_type": "code",
   "execution_count": 106,
   "id": "1093ab16-20ef-409a-9f13-3e283d295336",
   "metadata": {},
   "outputs": [],
   "source": [
    "emailRegex = re.compile(r'''([a-zA-Z0-9._%+-]+\n",
    "                        @\n",
    "                        [a-zA-Z0-9.-]+\n",
    "                        (\\.[a-zA-Z]{2,4})\n",
    "                        )''',re.VERBOSE)"
   ]
  },
  {
   "cell_type": "code",
   "execution_count": 107,
   "id": "62cb0aee-c232-4fbf-b2b8-68b85c918577",
   "metadata": {},
   "outputs": [
    {
     "data": {
      "text/plain": [
       "'sdhskjd1234@hotmail.com'"
      ]
     },
     "execution_count": 107,
     "metadata": {},
     "output_type": "execute_result"
    }
   ],
   "source": [
    "emailRegex.search('My number is: sdhskjd1234@hotmail.com').group()"
   ]
  },
  {
   "cell_type": "code",
   "execution_count": 108,
   "id": "d9256495-58fa-467b-924a-001c047320a6",
   "metadata": {},
   "outputs": [
    {
     "name": "stdout",
     "output_type": "stream",
     "text": [
      "Requirement already satisfied: pyperclip in c:\\users\\junwei.chen\\appdata\\local\\programs\\python\\python39\\lib\\site-packages (1.8.2)\n",
      "Note: you may need to restart the kernel to use updated packages.\n"
     ]
    }
   ],
   "source": [
    "pip install pyperclip"
   ]
  },
  {
   "cell_type": "code",
   "execution_count": 109,
   "id": "86fac504-2682-42dc-8779-a1869b54ae9e",
   "metadata": {},
   "outputs": [],
   "source": [
    "import pyperclip\n",
    "text = str(pyperclip.paste())"
   ]
  },
  {
   "cell_type": "code",
   "execution_count": 112,
   "id": "665e02de-d36d-43c6-8841-cf949d132684",
   "metadata": {},
   "outputs": [],
   "source": [
    "matches = []\n",
    "for groups in phoneRegex.findall(text):\n",
    "    phoneNum = '-'.join([groups[1],groups[3],groups[5]])\n",
    "    if groups[8] != '':\n",
    "        phoneNum += ' x' + groups[8]\n",
    "    matches.append(phoneNum)\n",
    "for groups in emailRegex.findall(text):\n",
    "    matches.append(groups[0])"
   ]
  },
  {
   "cell_type": "code",
   "execution_count": null,
   "id": "b4066c68-da7b-4195-a05a-932a99c67b0c",
   "metadata": {},
   "outputs": [],
   "source": []
  },
  {
   "cell_type": "code",
   "execution_count": 113,
   "id": "7646c3b8-4a19-45bf-aab8-3c79d0ac68ca",
   "metadata": {},
   "outputs": [
    {
     "name": "stdout",
     "output_type": "stream",
     "text": [
      "Copied to clipboard: \n",
      "800-420-7240\n",
      "415-863-9900\n",
      "415-863-9950\n",
      "info@nostarch.com\n",
      "media@nostarch.com\n",
      "academic@nostarch.com\n",
      "conferences@nostarch.com\n",
      "info@nostarch.com\n"
     ]
    }
   ],
   "source": [
    "if len(matches) > 0:\n",
    "    pyperclip.copy('\\n'.join(matches))\n",
    "    print('Copied to clipboard: ')\n",
    "    print('\\n'.join(matches))\n",
    "else:\n",
    "    print('No phone numbers or email found')"
   ]
  },
  {
   "cell_type": "code",
   "execution_count": null,
   "id": "23e24115-5d2d-45e3-a554-4783f175767c",
   "metadata": {},
   "outputs": [],
   "source": []
  }
 ],
 "metadata": {
  "kernelspec": {
   "display_name": "Python 3",
   "language": "python",
   "name": "python3"
  },
  "language_info": {
   "codemirror_mode": {
    "name": "ipython",
    "version": 3
   },
   "file_extension": ".py",
   "mimetype": "text/x-python",
   "name": "python",
   "nbconvert_exporter": "python",
   "pygments_lexer": "ipython3",
   "version": "3.9.5"
  }
 },
 "nbformat": 4,
 "nbformat_minor": 5
}
